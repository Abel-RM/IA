{
 "cells": [
  {
   "cell_type": "code",
   "execution_count": 76,
   "metadata": {},
   "outputs": [],
   "source": [
    "import scipy.stats\n",
    "import numpy as npy"
   ]
  },
  {
   "cell_type": "code",
   "execution_count": 77,
   "metadata": {},
   "outputs": [],
   "source": [
    "# importar el data set\n",
    "dataset = npy.genfromtxt('testdata.csv', delimiter=',')\n",
    "\n",
    "winzdataset = npy.genfromtxt('testdata.csv', delimiter=',')\n",
    "\n",
    "# data set de prueba 30%\n",
    "testdataset =  npy.genfromtxt('traindata4.csv', delimiter=',')"
   ]
  },
  {
   "cell_type": "code",
   "execution_count": 78,
   "metadata": {},
   "outputs": [],
   "source": [
    "#aqui se gurda cada columna del data set\n",
    "clm1 = []\n",
    "clm2 = []\n",
    "clm3 = []\n",
    "clm4 = []\n",
    "\n",
    "for ary in dataset:\n",
    "    clm1.append(ary[0])\n",
    "    clm2.append(ary[1])\n",
    "    clm3.append(ary[2])\n",
    "    clm4.append(ary[3])\n",
    "\n",
    "cl1 = scipy.stats.mstats.winsorize(clm1, limits=0.1)\n",
    "cl2 = scipy.stats.mstats.winsorize(clm2, limits=0.1)\n",
    "cl3 = scipy.stats.mstats.winsorize(clm3, limits=0.1)\n",
    "cl4 = scipy.stats.mstats.winsorize(clm4, limits=0.1)\n",
    "\n",
    "i = 0\n",
    "for ary in winzdataset:\n",
    "    ary[0]=cl1[i]\n",
    "    ary[1]=cl2[i]\n",
    "    ary[2]=cl3[i]\n",
    "    ary[3]=cl4[i]\n",
    "    i = i +1"
   ]
  },
  {
   "cell_type": "code",
   "execution_count": 79,
   "metadata": {},
   "outputs": [],
   "source": [
    "def predict_class(record, weights):\n",
    "    activation = weights[0]\n",
    "    for i in range(len(record) - 1):\n",
    "        activation += weights[i + 1] * record[i]\n",
    "    return 1.0 if activation >= 0.0 else 0.0"
   ]
  },
  {
   "cell_type": "code",
   "execution_count": 80,
   "metadata": {},
   "outputs": [],
   "source": [
    "def train_preceptron(records, learning_rate, n_iteraton):\n",
    "    weights = [0.0 for i in range(len(records[0]))]\n",
    "    for iteration in range(n_iteraton):\n",
    "        sum_error = 0.0\n",
    "        for row in records:\n",
    "            prediction = predict_class(row, weights)\n",
    "            error = row[-1] - prediction\n",
    "            sum_error += error ** 2\n",
    "            weights[0] = weights[0] + learning_rate * error\n",
    "            for i in range(len(row) - 1):\n",
    "                weights[i + 1] = weights[i + 1] + l_rate * error * row[i]    \n",
    "    return weights\n"
   ]
  },
  {
   "cell_type": "code",
   "execution_count": 81,
   "metadata": {},
   "outputs": [],
   "source": [
    "# probar el perceptron con el data set de prueba\n",
    "def test_preceptron(dataset,weights):\n",
    "    sumer = 0.0\n",
    "    for row in dataset:\n",
    "        prediction = predict_class(row, weights)\n",
    "        error = row[-1] - prediction\n",
    "        sumer += error ** 2\n",
    "    print(\n",
    "       '-------------------------------------------------------------------------------------------------------------------------------')\n",
    "    errores=sumer\n",
    "    print(\"Total de errores : \")\n",
    "    print(\"%d \" %(sumer))\n",
    "    print(\"Porcentaje de acciertos : \")\n",
    "    print((150-sumer)/150)"
   ]
  },
  {
   "cell_type": "code",
   "execution_count": 83,
   "metadata": {},
   "outputs": [
    {
     "name": "stdout",
     "output_type": "stream",
     "text": [
      "Pesos finales:\n",
      "[-0.05, -0.15999999999999998, -0.405, 0.555, 0.20999999999999996]\n",
      "-------------------------------------------------------------------------------------------------------------------------------\n",
      "Total de errores : \n",
      "4 \n",
      "Porcentaje de acciertos : \n",
      "0.9733333333333334\n"
     ]
    }
   ],
   "source": [
    "l_rate = 0.05\n",
    "n_epoch = 7\n",
    "weights = train_preceptron(dataset, l_rate, n_epoch)\n",
    "print(\"Pesos finales:\")\n",
    "print(weights)\n",
    "toterror = test_preceptron(testdataset,weights)"
   ]
  },
  {
   "cell_type": "code",
   "execution_count": null,
   "metadata": {},
   "outputs": [],
   "source": []
  }
 ],
 "metadata": {
  "kernelspec": {
   "display_name": "Python 3",
   "language": "python",
   "name": "python3"
  },
  "language_info": {
   "codemirror_mode": {
    "name": "ipython",
    "version": 3
   },
   "file_extension": ".py",
   "mimetype": "text/x-python",
   "name": "python",
   "nbconvert_exporter": "python",
   "pygments_lexer": "ipython3",
   "version": "3.7.4"
  }
 },
 "nbformat": 4,
 "nbformat_minor": 2
}
